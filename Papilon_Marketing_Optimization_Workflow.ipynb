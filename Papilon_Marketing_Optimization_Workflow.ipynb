{
 "cells": [
  {
   "cell_type": "markdown",
   "id": "a687b419",
   "metadata": {},
   "source": [
    "# Papilon Demo Notebook: Marketing Optimization Workflow"
   ]
  },
  {
   "cell_type": "markdown",
   "id": "94985a2f",
   "metadata": {},
   "source": [
    "## 📊 Step 1: Simulate Synthetic Marketing Data\n",
    "\n",
    "**✅ Interpretation:** This creates a realistic dataset with hidden relationships (e.g. spend influences CTR, which influences conversions and revenue)."
   ]
  },
  {
   "cell_type": "code",
   "execution_count": 1,
   "id": "957da989",
   "metadata": {},
   "outputs": [
    {
     "data": {
      "text/html": [
       "<div>\n",
       "<style scoped>\n",
       "    .dataframe tbody tr th:only-of-type {\n",
       "        vertical-align: middle;\n",
       "    }\n",
       "\n",
       "    .dataframe tbody tr th {\n",
       "        vertical-align: top;\n",
       "    }\n",
       "\n",
       "    .dataframe thead th {\n",
       "        text-align: right;\n",
       "    }\n",
       "</style>\n",
       "<table border=\"1\" class=\"dataframe\">\n",
       "  <thead>\n",
       "    <tr style=\"text-align: right;\">\n",
       "      <th></th>\n",
       "      <th>date</th>\n",
       "      <th>customer_id</th>\n",
       "      <th>channel</th>\n",
       "      <th>spend</th>\n",
       "      <th>CTR</th>\n",
       "      <th>conversions</th>\n",
       "      <th>revenue</th>\n",
       "    </tr>\n",
       "  </thead>\n",
       "  <tbody>\n",
       "    <tr>\n",
       "      <th>0</th>\n",
       "      <td>2023-01-01</td>\n",
       "      <td>CUST084</td>\n",
       "      <td>social</td>\n",
       "      <td>36.81</td>\n",
       "      <td>0.250</td>\n",
       "      <td>0</td>\n",
       "      <td>0.0</td>\n",
       "    </tr>\n",
       "    <tr>\n",
       "      <th>1</th>\n",
       "      <td>2023-01-01</td>\n",
       "      <td>CUST054</td>\n",
       "      <td>sms</td>\n",
       "      <td>3.01</td>\n",
       "      <td>0.250</td>\n",
       "      <td>0</td>\n",
       "      <td>0.0</td>\n",
       "    </tr>\n",
       "    <tr>\n",
       "      <th>2</th>\n",
       "      <td>2023-01-01</td>\n",
       "      <td>CUST071</td>\n",
       "      <td>social</td>\n",
       "      <td>19.17</td>\n",
       "      <td>0.250</td>\n",
       "      <td>0</td>\n",
       "      <td>0.0</td>\n",
       "    </tr>\n",
       "    <tr>\n",
       "      <th>3</th>\n",
       "      <td>2023-01-01</td>\n",
       "      <td>CUST046</td>\n",
       "      <td>social</td>\n",
       "      <td>3.53</td>\n",
       "      <td>0.129</td>\n",
       "      <td>0</td>\n",
       "      <td>0.0</td>\n",
       "    </tr>\n",
       "    <tr>\n",
       "      <th>4</th>\n",
       "      <td>2023-01-01</td>\n",
       "      <td>CUST045</td>\n",
       "      <td>paid</td>\n",
       "      <td>178.59</td>\n",
       "      <td>0.250</td>\n",
       "      <td>0</td>\n",
       "      <td>0.0</td>\n",
       "    </tr>\n",
       "  </tbody>\n",
       "</table>\n",
       "</div>"
      ],
      "text/plain": [
       "        date customer_id channel   spend    CTR  conversions  revenue\n",
       "0 2023-01-01     CUST084  social   36.81  0.250            0      0.0\n",
       "1 2023-01-01     CUST054     sms    3.01  0.250            0      0.0\n",
       "2 2023-01-01     CUST071  social   19.17  0.250            0      0.0\n",
       "3 2023-01-01     CUST046  social    3.53  0.129            0      0.0\n",
       "4 2023-01-01     CUST045    paid  178.59  0.250            0      0.0"
      ]
     },
     "execution_count": 1,
     "metadata": {},
     "output_type": "execute_result"
    }
   ],
   "source": [
    "import numpy as np\n",
    "import pandas as pd\n",
    "from datetime import timedelta, datetime\n",
    "\n",
    "np.random.seed(42)\n",
    "\n",
    "# Create dates and customers\n",
    "dates = pd.date_range(start=\"2023-01-01\", end=\"2023-03-31\", freq=\"D\")\n",
    "channels = [\"email\", \"sms\", \"social\", \"paid\"]\n",
    "customers = [f\"CUST{i:03d}\" for i in range(1, 101)]\n",
    "\n",
    "# Generate records\n",
    "rows = []\n",
    "for date in dates:\n",
    "    for customer in np.random.choice(customers, size=20, replace=False):\n",
    "        channel = np.random.choice(channels)\n",
    "        spend = np.random.exponential(scale=75 if channel == \"paid\" else 30)\n",
    "        ctr = np.clip(np.random.beta(2, 5), 0.01, 0.25)\n",
    "        conversions = np.random.binomial(1, ctr * 0.5)\n",
    "        revenue = conversions * (np.random.normal(50, 10))\n",
    "\n",
    "        rows.append({\n",
    "            \"date\": date,\n",
    "            \"customer_id\": customer,\n",
    "            \"channel\": channel,\n",
    "            \"spend\": round(spend, 2),\n",
    "            \"CTR\": round(ctr, 3),\n",
    "            \"conversions\": conversions,\n",
    "            \"revenue\": round(revenue, 2)\n",
    "        })\n",
    "\n",
    "marketing_df = pd.DataFrame(rows)\n",
    "marketing_df.head()"
   ]
  },
  {
   "cell_type": "markdown",
   "id": "2b431b0a",
   "metadata": {},
   "source": [
    "## 🔍 Step 2: Analyze Relationships\n",
    "\n",
    "**✅ Interpretation:** This reveals statistical dependencies between variables — e.g., `spend` and `CTR` influence `conversions`, showing nonlinear or hidden effects."
   ]
  },
  {
   "cell_type": "code",
   "execution_count": 2,
   "id": "703c6589",
   "metadata": {},
   "outputs": [
    {
     "data": {
      "image/png": "[encoded data removed]",
      "text/plain": [
       "<Figure size 720x576 with 2 Axes>"
      ]
     },
     "metadata": {
      "needs_background": "light"
     },
     "output_type": "display_data"
    },
    {
     "data": {
      "image/png": "[encoded data removed]",
      "text/plain": [
       "<Figure size 576x360 with 1 Axes>"
      ]
     },
     "metadata": {
      "needs_background": "light"
     },
     "output_type": "display_data"
    },
    {
     "data": {
      "text/plain": [
       "{'correlation_matrix':               channel     spend       CTR  conversions   revenue\n",
       " channel      1.000000 -0.102832  0.026884    -0.012131 -0.007982\n",
       " spend       -0.102832  1.000000  0.030065     0.002310  0.007796\n",
       " CTR          0.026884  0.030065  1.000000     0.120484  0.119163\n",
       " conversions -0.012131  0.002310  0.120484     1.000000  0.977631\n",
       " revenue     -0.007982  0.007796  0.119163     0.977631  1.000000,\n",
       " 'mutual_information': revenue    0.336384\n",
       " CTR        0.011654\n",
       " channel    0.009759\n",
       " spend      0.002490\n",
       " dtype: float64}"
      ]
     },
     "execution_count": 2,
     "metadata": {},
     "output_type": "execute_result"
    }
   ],
   "source": [
    "from papilon import analyze_relationships\n",
    "\n",
    "# Encode channels numerically for correlation\n",
    "df_encoded = marketing_df.copy()\n",
    "df_encoded['channel'] = df_encoded['channel'].astype('category').cat.codes\n",
    "\n",
    "analyze_relationships(df_encoded, target='conversions', visualize=True)"
   ]
  },
  {
   "cell_type": "markdown",
   "id": "ea7fa08c",
   "metadata": {},
   "source": [
    "## 🧠 Step 3: Infer Causal Structure\n",
    "\n",
    "**✅ Interpretation:** This visualizes causal edges like `spend → CTR → conversions`. It helps reveal the true structure driving performance."
   ]
  },
  {
   "cell_type": "code",
   "execution_count": 3,
   "id": "7aefe440",
   "metadata": {},
   "outputs": [
    {
     "data": {
      "image/png": "[encoded data removed]",
      "text/plain": [
       "<Figure size 432x288 with 1 Axes>"
      ]
     },
     "metadata": {},
     "output_type": "display_data"
    }
   ],
   "source": [
    "from papilon import infer_causal_structure\n",
    "\n",
    "causal_graph = infer_causal_structure(df_encoded, visualize=True)"
   ]
  },
  {
   "cell_type": "markdown",
   "id": "df0350fb",
   "metadata": {},
   "source": [
    "## ⚙️ Step 4: Optimize Spend + Channel Mix\n",
    "\n",
    "**✅ Interpretation:** This finds the most efficient spend+channel combos for maximizing expected conversions."
   ]
  },
  {
   "cell_type": "code",
   "execution_count": null,
   "id": "77008298",
   "metadata": {},
   "outputs": [
    {
     "data": {
      "text/html": [
       "<div>\n",
       "<style scoped>\n",
       "    .dataframe tbody tr th:only-of-type {\n",
       "        vertical-align: middle;\n",
       "    }\n",
       "\n",
       "    .dataframe tbody tr th {\n",
       "        vertical-align: top;\n",
       "    }\n",
       "\n",
       "    .dataframe thead th {\n",
       "        text-align: right;\n",
       "    }\n",
       "</style>\n",
       "<table border=\"1\" class=\"dataframe\">\n",
       "  <thead>\n",
       "    <tr style=\"text-align: right;\">\n",
       "      <th></th>\n",
       "      <th>spend</th>\n",
       "      <th>channel</th>\n",
       "      <th>score</th>\n",
       "    </tr>\n",
       "  </thead>\n",
       "  <tbody>\n",
       "    <tr>\n",
       "      <th>19</th>\n",
       "      <td>250</td>\n",
       "      <td>3</td>\n",
       "      <td>0.254749</td>\n",
       "    </tr>\n",
       "    <tr>\n",
       "      <th>17</th>\n",
       "      <td>250</td>\n",
       "      <td>1</td>\n",
       "      <td>0.254561</td>\n",
       "    </tr>\n",
       "    <tr>\n",
       "      <th>18</th>\n",
       "      <td>250</td>\n",
       "      <td>2</td>\n",
       "      <td>0.252419</td>\n",
       "    </tr>\n",
       "    <tr>\n",
       "      <th>16</th>\n",
       "      <td>250</td>\n",
       "      <td>0</td>\n",
       "      <td>0.247241</td>\n",
       "    </tr>\n",
       "    <tr>\n",
       "      <th>15</th>\n",
       "      <td>200</td>\n",
       "      <td>3</td>\n",
       "      <td>0.203800</td>\n",
       "    </tr>\n",
       "  </tbody>\n",
       "</table>\n",
       "</div>"
      ],
      "text/plain": [
       "    spend  channel     score\n",
       "19    250        3  0.254749\n",
       "17    250        1  0.254561\n",
       "18    250        2  0.252419\n",
       "16    250        0  0.247241\n",
       "15    200        3  0.203800"
      ]
     },
     "execution_count": 4,
     "metadata": {},
     "output_type": "execute_result"
    }
   ],
   "source": [
    "from papillon import grid_search_optimize\n",
    "\n",
    "# Simple optimizer objective: max conversions\n",
    "mean_ctr = df_encoded.groupby('channel')['CTR'].mean().to_dict()\n",
    "\n",
    "def objective_fn(config):\n",
    "    spend = config['spend']\n",
    "    ctr = mean_ctr[config['channel']] * (spend / 100)\n",
    "    conv = ctr * 0.5\n",
    "    return conv\n",
    "\n",
    "feature_ranges = {\n",
    "    'spend': [50, 100, 150, 200, 250],\n",
    "    'channel': list(mean_ctr.keys())\n",
    "}\n",
    "\n",
    "results = grid_search_optimize(df_encoded, feature_ranges, objective_fn)\n",
    "results.head()"
   ]
  },
  {
   "cell_type": "markdown",
   "id": "e96ed382",
   "metadata": {},
   "source": [
    "## 📈 Step 5: (Optional) Marketing Mix Modeling (MMM)\n",
    "\n",
    "**✅ Interpretation:** This estimates marginal ROI per channel and spend, simulating a basic MMM. More sophisticated models can follow."
   ]
  },
  {
   "cell_type": "code",
   "execution_count": 5,
   "id": "7882ebc5",
   "metadata": {},
   "outputs": [
    {
     "name": "stdout",
     "output_type": "stream",
     "text": [
      "                            OLS Regression Results                            \n",
      "==============================================================================\n",
      "Dep. Variable:                revenue   R-squared:                       0.001\n",
      "Model:                            OLS   Adj. R-squared:                 -0.001\n",
      "Method:                 Least Squares   F-statistic:                    0.5011\n",
      "Date:                Sun, 20 Apr 2025   Prob (F-statistic):              0.735\n",
      "Time:                        09:48:36   Log-Likelihood:                -7479.2\n",
      "No. Observations:                1800   AIC:                         1.497e+04\n",
      "Df Residuals:                    1795   BIC:                         1.500e+04\n",
      "Df Model:                           4                                         \n",
      "Covariance Type:            nonrobust                                         \n",
      "==============================================================================\n",
      "                 coef    std err          t      P>|t|      [0.025      0.975]\n",
      "------------------------------------------------------------------------------\n",
      "const          4.6929      0.782      6.000      0.000       3.159       6.227\n",
      "spend         -0.0005      0.008     -0.061      0.951      -0.016       0.015\n",
      "channel_1      0.9827      1.110      0.885      0.376      -1.194       3.159\n",
      "channel_2      0.7785      1.043      0.746      0.456      -1.267       2.824\n",
      "channel_3     -0.2604      1.032     -0.252      0.801      -2.285       1.764\n",
      "==============================================================================\n",
      "Omnibus:                     1043.714   Durbin-Watson:                   1.946\n",
      "Prob(Omnibus):                  0.000   Jarque-Bera (JB):             5912.399\n",
      "Skew:                           2.874   Prob(JB):                         0.00\n",
      "Kurtosis:                       9.767   Cond. No.                         288.\n",
      "==============================================================================\n",
      "\n",
      "Notes:\n",
      "[1] Standard Errors assume that the covariance matrix of the errors is correctly specified.\n"
     ]
    },
    {
     "name": "stderr",
     "output_type": "stream",
     "text": [
      "c:\\Users\\Owner\\anaconda3\\lib\\site-packages\\statsmodels\\tsa\\tsatools.py:142: FutureWarning: In a future version of pandas all arguments of concat except for the argument 'objs' will be keyword-only\n",
      "  x = pd.concat(x[::order], 1)\n"
     ]
    }
   ],
   "source": [
    "import statsmodels.api as sm\n",
    "\n",
    "# One-hot encode channel\n",
    "df_mmm = pd.get_dummies(df_encoded, columns=[\"channel\"], drop_first=True)\n",
    "\n",
    "X = df_mmm[[col for col in df_mmm.columns if col.startswith(\"channel_\") or col == \"spend\"]]\n",
    "y = df_mmm['revenue']\n",
    "\n",
    "X = sm.add_constant(X)\n",
    "model = sm.OLS(y, X).fit()\n",
    "print(model.summary())"
   ]
  },
  {
   "cell_type": "markdown",
   "id": "8a9a228a",
   "metadata": {},
   "source": [
    "### ✅ Conclusion\n",
    "You’ve now:\n",
    "- Simulated complex marketing behavior\n",
    "- Identified correlations and patterns\n",
    "- Mapped causal influences\n",
    "- Found optimization levers\n",
    "- Performed a basic marketing mix model\n",
    "\n",
    "> 🔄 Next step? Add time trends, seasonality, or streamlit dashboard for scenario testing."
   ]
  }
 ],
 "metadata": {
  "kernelspec": {
   "display_name": "Python (Papilon)",
   "language": "python",
   "name": "papilon-env"
  },
  "language_info": {
   "codemirror_mode": {
    "name": "ipython",
    "version": 3
   },
   "file_extension": ".py",
   "mimetype": "text/x-python",
   "name": "python",
   "nbconvert_exporter": "python",
   "pygments_lexer": "ipython3",
   "version": "3.9.7"
  }
 },
 "nbformat": 4,
 "nbformat_minor": 5
}
