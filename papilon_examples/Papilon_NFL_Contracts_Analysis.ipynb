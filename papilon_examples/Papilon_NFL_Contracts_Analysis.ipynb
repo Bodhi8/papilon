{
 "cells": [
  {
   "cell_type": "markdown",
   "id": "63413a67",
   "metadata": {},
   "source": [
    "# NFL Contracts, Pay, Performance, and Injury Analysis\n",
    "\n",
    "This notebook uses the Papilon framework to explore and analyze NFL player contracts, performance statistics, and injury history. The goal is to uncover patterns, potential inefficiencies, and insights for player valuation and team strategy."
   ]
  },
  {
   "cell_type": "code",
   "execution_count": null,
   "id": "cd9402b0",
   "metadata": {},
   "outputs": [],
   "source": [
    "# Step 1: Import Libraries\n",
    "import pandas as pd\n",
    "import numpy as np\n",
    "import matplotlib.pyplot as plt\n",
    "import seaborn as sns\n",
    "from papilon.entropy import shannon_entropy\n",
    "from papilon.relationships import analyze_relationships\n",
    "from papilon.causal import infer_causal_structure\n",
    "from papilon.simulation import simulate_kde_scenarios\n",
    "from papilon.optimizer import grid_search_optimize"
   ]
  },
  {
   "cell_type": "markdown",
   "id": "c32c8192",
   "metadata": {},
   "source": [
    "## Step 2: Load NFL Data\n",
    "You can replace this with real NFL datasets. This is a mock structure."
   ]
  },
  {
   "cell_type": "code",
   "execution_count": null,
   "id": "64df9d26",
   "metadata": {},
   "outputs": [],
   "source": [
    "# Mock NFL data setup (replace with real data if available)\n",
    "data = pd.DataFrame({\n",
    "    'player': ['Player A', 'Player B', 'Player C', 'Player D'],\n",
    "    'position': ['QB', 'RB', 'WR', 'DL'],\n",
    "    'contract_value_m': [30, 15, 20, 25],\n",
    "    'guaranteed_m': [20, 10, 12, 15],\n",
    "    'injury_days_missed': [10, 45, 5, 30],\n",
    "    'games_played': [16, 10, 16, 12],\n",
    "    'touchdowns': [35, 6, 10, 3],\n",
    "    'yards': [4500, 900, 1200, 400]\n",
    "})\n",
    "data"
   ]
  },
  {
   "cell_type": "markdown",
   "id": "2129aa54",
   "metadata": {},
   "source": [
    "## Step 3: Analyze Relationships and Efficiency"
   ]
  },
  {
   "cell_type": "code",
   "execution_count": null,
   "id": "f5351c6b",
   "metadata": {},
   "outputs": [],
   "source": [
    "# Analyze relationship between contract value and performance\n",
    "relationship_results = analyze_relationships(data, target_column='contract_value_m')\n",
    "relationship_results.head()"
   ]
  },
  {
   "cell_type": "markdown",
   "id": "3798a6db",
   "metadata": {},
   "source": [
    "## Step 4: Identify Inefficiencies via Entropy"
   ]
  },
  {
   "cell_type": "code",
   "execution_count": null,
   "id": "cadeaf71",
   "metadata": {},
   "outputs": [],
   "source": [
    "# Compute entropy across selected player stats\n",
    "features = ['contract_value_m', 'games_played', 'touchdowns', 'injury_days_missed']\n",
    "entropy_scores = data[features].apply(shannon_entropy)\n",
    "entropy_scores"
   ]
  },
  {
   "cell_type": "markdown",
   "id": "53bf1753",
   "metadata": {},
   "source": [
    "## Step 5: Simulate Player Value Scenarios"
   ]
  },
  {
   "cell_type": "code",
   "execution_count": null,
   "id": "4c7a7d1a",
   "metadata": {},
   "outputs": [],
   "source": [
    "# Simulate alternative performance outcomes\n",
    "simulated = simulate_kde_scenarios(data[['contract_value_m', 'touchdowns']], columns=['contract_value_m'])\n",
    "simulated.head()"
   ]
  },
  {
   "cell_type": "markdown",
   "id": "e4020754",
   "metadata": {},
   "source": [
    "## Step 6: Causal Inference\n",
    "Learn potential causal effects (e.g., does injury affect contract or performance?)"
   ]
  },
  {
   "cell_type": "code",
   "execution_count": null,
   "id": "13a6af18",
   "metadata": {},
   "outputs": [],
   "source": [
    "causal_graph = infer_causal_structure(data)\n",
    "causal_graph.draw(format='png')"
   ]
  },
  {
   "cell_type": "markdown",
   "id": "c72ae76c",
   "metadata": {},
   "source": [
    "## Next Steps\n",
    "- Add team-level financial summaries\n",
    "- Run across multiple seasons\n",
    "- Incorporate salary cap & team performance"
   ]
  }
 ],
 "metadata": {},
 "nbformat": 4,
 "nbformat_minor": 5
}
