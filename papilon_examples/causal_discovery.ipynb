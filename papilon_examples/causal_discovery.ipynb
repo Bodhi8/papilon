{
 "cells": [
  {
   "cell_type": "code",
   "execution_count": null,
   "id": "a9dbd904",
   "metadata": {},
   "outputs": [],
   "source": [
    "# Papilon Example: Causal Structure Inference\n",
    "\n",
    "from papilon import infer_causal_structure\n",
    "import pandas as pd\n",
    "import numpy as np\n",
    "\n",
    "# Sample data\n",
    "np.random.seed(42)\n",
    "df = pd.DataFrame({\n",
    "    'spend': np.random.randint(50, 200, 100),\n",
    "    'CTR': np.random.beta(2, 5, 100),\n",
    "    'conversions': np.random.poisson(5, 100)\n",
    "})\n",
    "\n",
    "# Causal graph\n",
    "graph = infer_causal_structure(df, visualize=True)"
   ]
  }
 ],
 "metadata": {},
 "nbformat": 4,
 "nbformat_minor": 5
}
