{
 "cells": [
  {
   "cell_type": "code",
   "execution_count": null,
   "id": "94db9d40",
   "metadata": {},
   "outputs": [],
   "source": [
    "# Papilon Example: Basic KDE Simulation\n",
    "\n",
    "from papilon import simulate_kde_scenarios\n",
    "import pandas as pd\n",
    "import matplotlib.pyplot as plt\n",
    "\n",
    "# Sample data\n",
    "df = pd.DataFrame({\n",
    "    'spend': [50, 60, 70, 90, 120, 150],\n",
    "    'conversions': [3, 4, 6, 7, 10, 13]\n",
    "})\n",
    "\n",
    "# Simulate\n",
    "simulated = simulate_kde_scenarios(df, columns=['conversions'], n_samples=1000)\n",
    "\n",
    "# Plot\n",
    "plt.hist(simulated['conversions'], bins=30, density=True, alpha=0.6, edgecolor='black')\n",
    "plt.title('Simulated Conversion Distribution')\n",
    "plt.xlabel('Conversions')\n",
    "plt.ylabel('Density')\n",
    "plt.grid(True)\n",
    "plt.show()"
   ]
  }
 ],
 "metadata": {},
 "nbformat": 4,
 "nbformat_minor": 5
}
