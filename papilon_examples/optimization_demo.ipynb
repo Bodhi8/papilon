{
 "cells": [
  {
   "cell_type": "code",
   "execution_count": null,
   "id": "3227e91b",
   "metadata": {},
   "outputs": [],
   "source": [
    "# Papilon Example: Grid Search Optimization\n",
    "\n",
    "from papilon import grid_search_optimize\n",
    "import pandas as pd\n",
    "\n",
    "# Sample objective\n",
    "mean_ctr = {0: 0.1, 1: 0.15}\n",
    "\n",
    "def objective_fn(config):\n",
    "    spend = config['spend']\n",
    "    ctr = mean_ctr[config['channel']] * (spend / 100)\n",
    "    return ctr * 0.5\n",
    "\n",
    "# Dummy df and config space\n",
    "df = pd.DataFrame({'channel': [0, 1], 'spend': [50, 100]})\n",
    "config = {'spend': [50, 100, 150], 'channel': [0, 1]}\n",
    "\n",
    "# Run optimizer\n",
    "results = grid_search_optimize(df, config, objective_fn)\n",
    "print(results)"
   ]
  }
 ],
 "metadata": {},
 "nbformat": 4,
 "nbformat_minor": 5
}
