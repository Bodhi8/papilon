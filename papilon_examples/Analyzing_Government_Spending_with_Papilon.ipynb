{
 "cells": [
  {
   "cell_type": "markdown",
   "id": "cd9b7d46",
   "metadata": {},
   "source": [
    "# Analyzing Government Spending with Papilon\n",
    "\n",
    "Use Papilon to explore patterns, waste, and possible fraud in government budgets using entropy, causal inference, and scenario simulation."
   ]
  },
  {
   "cell_type": "code",
   "execution_count": null,
   "id": "e46a5623",
   "metadata": {},
   "outputs": [],
   "source": [
    "import pandas as pd\n",
    "import matplotlib.pyplot as plt\n",
    "import seaborn as sns\n",
    "from papilon import (\n",
    "    shannon_entropy,\n",
    "    analyze_relationships,\n",
    "    simulate_kde_scenarios,\n",
    "    infer_causal_structure,\n",
    "    grid_search_optimize\n",
    ")\n",
    "\n",
    "# Load or simulate government spending data\n",
    "data = {\n",
    "    'education': [500, 520, 490, 530, 505],\n",
    "    'healthcare': [600, 610, 620, 605, 615],\n",
    "    'defense': [700, 680, 690, 710, 705],\n",
    "    'infrastructure': [300, 310, 295, 320, 315],\n",
    "    'admin': [200, 205, 210, 215, 220]\n",
    "}\n",
    "df = pd.DataFrame(data)\n",
    "df['total_spending'] = df.sum(axis=1)\n",
    "df.head()\n"
   ]
  },
  {
   "cell_type": "markdown",
   "id": "f8a59a39",
   "metadata": {},
   "source": [
    "##  Entropy Analysis\n",
    "Evaluate the uncertainty of each spending category to identify irregularities or unpredictable allocations."
   ]
  },
  {
   "cell_type": "code",
   "execution_count": null,
   "id": "0f5abb7a",
   "metadata": {},
   "outputs": [],
   "source": [
    "columns = ['education', 'healthcare', 'defense', 'infrastructure', 'admin']\n",
    "for col in columns:\n",
    "    entropy = shannon_entropy(df[col])\n",
    "    print(f\"{col} Entropy: {entropy:.4f}\")\n"
   ]
  },
  {
   "cell_type": "markdown",
   "id": "544852a2",
   "metadata": {},
   "source": [
    "##  Correlation and Relationships\n",
    "Check for suspicious or unexplained relationships between categories."
   ]
  },
  {
   "cell_type": "code",
   "execution_count": null,
   "id": "1330fe7c",
   "metadata": {},
   "outputs": [],
   "source": [
    "analyze_relationships(df[columns], method='correlation')\n"
   ]
  },
  {
   "cell_type": "markdown",
   "id": "e3f38d99",
   "metadata": {},
   "source": [
    "##  Simulate Spending Scenarios\n",
    "Model alternate budget scenarios based on KDE simulation."
   ]
  },
  {
   "cell_type": "code",
   "execution_count": null,
   "id": "f8f61d02",
   "metadata": {},
   "outputs": [],
   "source": [
    "simulated = simulate_kde_scenarios(df[columns], df['total_spending'], n_samples=1000)\n",
    "simulated.plot(kind='kde', title='Simulated Total Spending Distribution', legend=False)\n",
    "plt.xlabel('Total Spending')\n",
    "plt.show()\n"
   ]
  },
  {
   "cell_type": "markdown",
   "id": "3d296d0f",
   "metadata": {},
   "source": [
    "##  Causal Inference\n",
    "Reveal potential drivers and dependencies of total government spending."
   ]
  },
  {
   "cell_type": "code",
   "execution_count": null,
   "id": "7c2759b4",
   "metadata": {},
   "outputs": [],
   "source": [
    "graph = infer_causal_structure(df[columns + ['total_spending']])\n",
    "graph.draw()\n"
   ]
  },
  {
   "cell_type": "markdown",
   "id": "bd9068fd",
   "metadata": {},
   "source": [
    "##  Optimization: Minimize Waste\n",
    "Define a custom function to optimize for spending efficiency and flag overallocated sectors."
   ]
  },
  {
   "cell_type": "code",
   "execution_count": null,
   "id": "dbc63405",
   "metadata": {},
   "outputs": [],
   "source": [
    "def waste_score(config):\n",
    "    return config['admin'] * 1.5 + config['defense'] * 1.2 - config['education'] * 0.8 - config['healthcare'] * 0.7\n",
    "\n",
    "bounds = {\n",
    "    'education': (400, 600),\n",
    "    'healthcare': (500, 700),\n",
    "    'defense': (600, 800),\n",
    "    'admin': (180, 250)\n",
    "}\n",
    "\n",
    "result = grid_search_optimize(waste_score, bounds, resolution=10)\n",
    "print(\"Optimal Spending Configuration to Reduce Waste:\")\n",
    "print(result)\n"
   ]
  },
  {
   "cell_type": "markdown",
   "id": "a8b9b490",
   "metadata": {},
   "source": [
    "##  Summary\n",
    "- Entropy helps uncover volatile allocations\n",
    "- Correlations may indicate unexplainable dependencies\n",
    "- Causal graphs reveal root causes\n",
    "- Optimization helps minimize potential waste"
   ]
  }
 ],
 "metadata": {},
 "nbformat": 4,
 "nbformat_minor": 5
}
