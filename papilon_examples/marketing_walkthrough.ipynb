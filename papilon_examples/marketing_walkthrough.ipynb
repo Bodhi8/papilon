{
 "cells": [
  {
   "cell_type": "code",
   "execution_count": null,
   "id": "f9a28828",
   "metadata": {},
   "outputs": [],
   "source": [
    "# Papilon Example: Marketing Simulation & Insights\n",
    "\n",
    "from papilon import simulate_kde_scenarios, infer_causal_structure, grid_search_optimize\n",
    "import pandas as pd\n",
    "import numpy as np\n",
    "import matplotlib.pyplot as plt\n",
    "\n",
    "# Simulate dataset\n",
    "np.random.seed(0)\n",
    "df = pd.DataFrame({\n",
    "    'channel': np.random.choice(['email', 'sms', 'paid'], size=200),\n",
    "    'spend': np.random.exponential(scale=100, size=200),\n",
    "    'CTR': np.random.beta(2, 5, 200),\n",
    "})\n",
    "df['conversions'] = np.random.binomial(1, df['CTR'] * 0.5)\n",
    "\n",
    "# Analyze causality\n",
    "df_encoded = df.copy()\n",
    "df_encoded['channel'] = df_encoded['channel'].astype('category').cat.codes\n",
    "graph = infer_causal_structure(df_encoded, visualize=True)\n",
    "\n",
    "# Optimize\n",
    "mean_ctr = df_encoded.groupby('channel')['CTR'].mean().to_dict()\n",
    "def objective_fn(config):\n",
    "    return mean_ctr[config['channel']] * (config['spend'] / 100) * 0.5\n",
    "\n",
    "results = grid_search_optimize(df_encoded, {\n",
    "    'spend': [50, 100, 150],\n",
    "    'channel': list(mean_ctr.keys())\n",
    "}, objective_fn)\n",
    "\n",
    "print(results)"
   ]
  }
 ],
 "metadata": {},
 "nbformat": 4,
 "nbformat_minor": 5
}
